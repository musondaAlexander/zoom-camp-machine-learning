{
 "cells": [
  {
   "cell_type": "markdown",
   "metadata": {},
   "source": [
    "Coming up with a simple linear regression algorithm \n"
   ]
  },
  {
   "cell_type": "code",
   "execution_count": 1,
   "metadata": {},
   "outputs": [],
   "source": [
    "import pandas as pd \n",
    "import numpy as np"
   ]
  },
  {
   "cell_type": "code",
   "execution_count": 2,
   "metadata": {},
   "outputs": [
    {
     "name": "stdout",
     "output_type": "stream",
     "text": [
      "   Age  Mileage  Price\n",
      "0    7      140  20379\n",
      "1    4       60  34492\n",
      "2   13      144  10712\n",
      "3   11       30  24180\n",
      "4    8       82  25862\n"
     ]
    }
   ],
   "source": [
    "# Generate synthetic dataset: Car Age (years), Mileage (thousands)\n",
    "np.random.seed(42)\n",
    "car_age = np.random.randint(1, 15, 50)  # Cars between 1 and 15 years old\n",
    "mileage = np.random.randint(10, 200, 50)  # Mileage between 10k and 200k km\n",
    "prices = 50000 - (car_age * 2000) - (mileage * 100) + np.random.randint(-2000, 2000, 50)\n",
    "\n",
    "# Create DataFrame\n",
    "df = pd.DataFrame({'Age': car_age, 'Mileage': mileage, 'Price': prices})\n",
    "\n",
    "# Display first few rows\n",
    "print(df.head())"
   ]
  },
  {
   "cell_type": "code",
   "execution_count": 4,
   "metadata": {},
   "outputs": [
    {
     "data": {
      "text/plain": [
       "Age        int32\n",
       "Mileage    int32\n",
       "Price      int32\n",
       "dtype: object"
      ]
     },
     "execution_count": 4,
     "metadata": {},
     "output_type": "execute_result"
    }
   ],
   "source": [
    "df.dtypes"
   ]
  },
  {
   "cell_type": "markdown",
   "metadata": {},
   "source": [
    "Linear regression using normal equations "
   ]
  },
  {
   "cell_type": "code",
   "execution_count": 5,
   "metadata": {},
   "outputs": [
    {
     "name": "stdout",
     "output_type": "stream",
     "text": [
      "Normal Equation Weights: [-2009.76804471   -96.38343127], Bias: 49760.67342560957\n"
     ]
    }
   ],
   "source": [
    "def train_normal_eq(X, y):\n",
    "    X_b = np.c_[np.ones((X.shape[0], 1)), X]  # Add bias term (column of 1s)\n",
    "    theta = np.linalg.inv(X_b.T.dot(X_b)).dot(X_b.T).dot(y)\n",
    "    \n",
    "    b = theta[0]  # Bias (intercept)\n",
    "    w = theta[1:]  # Weights (coefficients)\n",
    "    \n",
    "    return w, b\n",
    "\n",
    "# Prepare features and target\n",
    "X = df[['Age', 'Mileage']].values\n",
    "y = df['Price'].values\n",
    "\n",
    "# Train using Normal Equation\n",
    "w_ne, b_ne = train_normal_eq(X, y)\n",
    "print(f\"Normal Equation Weights: {w_ne}, Bias: {b_ne}\")\n"
   ]
  },
  {
   "cell_type": "markdown",
   "metadata": {},
   "source": [
    "*Linear Regression Using Gradient Descent*"
   ]
  },
  {
   "cell_type": "code",
   "execution_count": 6,
   "metadata": {},
   "outputs": [
    {
     "name": "stdout",
     "output_type": "stream",
     "text": [
      "Gradient Descent Weights: [624.52018025 115.74051683], Bias: 149.79398737628128\n"
     ]
    }
   ],
   "source": [
    "def train_gradient_descent(X, y, learning_rate=0.00001, epochs=1000):\n",
    "    m, n = X.shape\n",
    "    w = np.random.randn(n)\n",
    "    b = np.random.randn()\n",
    "    \n",
    "    for _ in range(epochs):\n",
    "        y_pred = np.dot(X, w) + b\n",
    "        loss = np.mean((y - y_pred) ** 2)  # MSE Loss\n",
    "        \n",
    "        # Compute gradients\n",
    "        dw = (-2 / m) * np.dot(X.T, (y - y_pred))\n",
    "        db = (-2 / m) * np.sum(y - y_pred)\n",
    "        \n",
    "        # Update weights\n",
    "        w -= learning_rate * dw\n",
    "        b -= learning_rate * db\n",
    "    \n",
    "    return w, b\n",
    "\n",
    "# Train using Gradient Descent\n",
    "w_gd, b_gd = train_gradient_descent(X, y)\n",
    "print(f\"Gradient Descent Weights: {w_gd}, Bias: {b_gd}\")\n"
   ]
  },
  {
   "cell_type": "markdown",
   "metadata": {},
   "source": [
    "*Train Using Scikit-Learn*\n"
   ]
  },
  {
   "cell_type": "code",
   "execution_count": 7,
   "metadata": {},
   "outputs": [
    {
     "name": "stdout",
     "output_type": "stream",
     "text": [
      "Sklearn Weights: [-2009.76804471   -96.38343127], Bias: 49760.67342560958\n"
     ]
    }
   ],
   "source": [
    "from sklearn.linear_model import LinearRegression\n",
    "\n",
    "# Train model\n",
    "model = LinearRegression()\n",
    "model.fit(X, y)\n",
    "\n",
    "print(f\"Sklearn Weights: {model.coef_}, Bias: {model.intercept_}\")\n"
   ]
  },
  {
   "cell_type": "markdown",
   "metadata": {},
   "source": [
    "*Train Using XGBoost*"
   ]
  },
  {
   "cell_type": "code",
   "execution_count": 10,
   "metadata": {},
   "outputs": [
    {
     "data": {
      "text/html": [
       "<div>\n",
       "<style scoped>\n",
       "    .dataframe tbody tr th:only-of-type {\n",
       "        vertical-align: middle;\n",
       "    }\n",
       "\n",
       "    .dataframe tbody tr th {\n",
       "        vertical-align: top;\n",
       "    }\n",
       "\n",
       "    .dataframe thead th {\n",
       "        text-align: right;\n",
       "    }\n",
       "</style>\n",
       "<table border=\"1\" class=\"dataframe\">\n",
       "  <thead>\n",
       "    <tr style=\"text-align: right;\">\n",
       "      <th></th>\n",
       "      <th>Age</th>\n",
       "      <th>Mileage</th>\n",
       "      <th>Price</th>\n",
       "    </tr>\n",
       "  </thead>\n",
       "  <tbody>\n",
       "    <tr>\n",
       "      <th>0</th>\n",
       "      <td>7</td>\n",
       "      <td>140</td>\n",
       "      <td>20379</td>\n",
       "    </tr>\n",
       "    <tr>\n",
       "      <th>1</th>\n",
       "      <td>4</td>\n",
       "      <td>60</td>\n",
       "      <td>34492</td>\n",
       "    </tr>\n",
       "    <tr>\n",
       "      <th>2</th>\n",
       "      <td>13</td>\n",
       "      <td>144</td>\n",
       "      <td>10712</td>\n",
       "    </tr>\n",
       "    <tr>\n",
       "      <th>3</th>\n",
       "      <td>11</td>\n",
       "      <td>30</td>\n",
       "      <td>24180</td>\n",
       "    </tr>\n",
       "    <tr>\n",
       "      <th>4</th>\n",
       "      <td>8</td>\n",
       "      <td>82</td>\n",
       "      <td>25862</td>\n",
       "    </tr>\n",
       "  </tbody>\n",
       "</table>\n",
       "</div>"
      ],
      "text/plain": [
       "   Age  Mileage  Price\n",
       "0    7      140  20379\n",
       "1    4       60  34492\n",
       "2   13      144  10712\n",
       "3   11       30  24180\n",
       "4    8       82  25862"
      ]
     },
     "execution_count": 10,
     "metadata": {},
     "output_type": "execute_result"
    }
   ],
   "source": [
    "df.head()"
   ]
  },
  {
   "cell_type": "code",
   "execution_count": 9,
   "metadata": {},
   "outputs": [
    {
     "name": "stdout",
     "output_type": "stream",
     "text": [
      "XGBoost Predictions on First 5 Cars: [20379.996 34492.22  10711.776 24179.82  25862.098]\n"
     ]
    }
   ],
   "source": [
    "import xgboost as xgb\n",
    "\n",
    "# Train XGBoost model\n",
    "xgb_model = xgb.XGBRegressor(objective='reg:squarederror', n_estimators=100)\n",
    "xgb_model.fit(X, y)\n",
    "\n",
    "print(f\"XGBoost Predictions on First 5 Cars: {xgb_model.predict(X[:5])}\")\n"
   ]
  }
 ],
 "metadata": {
  "kernelspec": {
   "display_name": "Python 3",
   "language": "python",
   "name": "python3"
  },
  "language_info": {
   "codemirror_mode": {
    "name": "ipython",
    "version": 3
   },
   "file_extension": ".py",
   "mimetype": "text/x-python",
   "name": "python",
   "nbconvert_exporter": "python",
   "pygments_lexer": "ipython3",
   "version": "3.10.3"
  }
 },
 "nbformat": 4,
 "nbformat_minor": 2
}
