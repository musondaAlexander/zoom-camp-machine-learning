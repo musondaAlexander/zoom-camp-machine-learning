{
 "cells": [
  {
   "cell_type": "markdown",
   "metadata": {},
   "source": [
    "TO be used for practicing Numpy"
   ]
  },
  {
   "cell_type": "code",
   "execution_count": 1,
   "metadata": {},
   "outputs": [],
   "source": [
    "import numpy as np"
   ]
  },
  {
   "cell_type": "code",
   "execution_count": 2,
   "metadata": {},
   "outputs": [
    {
     "name": "stdout",
     "output_type": "stream",
     "text": [
      "[12 14 16 18 20 22 24 26 28 30]\n",
      "[-10 -10 -10 -10 -10 -10 -10 -10 -10 -10]\n",
      "[ 11  24  39  56  75  96 119 144 171 200]\n",
      "[0.09090909 0.16666667 0.23076923 0.28571429 0.33333333 0.375\n",
      " 0.41176471 0.44444444 0.47368421 0.5       ]\n"
     ]
    }
   ],
   "source": [
    "df1 = [1, 2, 3, 4, 5, 6, 7, 8, 9, 10]\n",
    "df2 = [11, 12, 13, 14, 15, 16, 17, 18, 19, 20]\n",
    "df3 = np.array(df1)\n",
    "df4 = np.array(df2)\n",
    "\n",
    "print(df3+df4)\n",
    "print(df3-df4)\n",
    "print(df3*df4)\n",
    "print(df3/df4)\n",
    "\n",
    "\n"
   ]
  },
  {
   "cell_type": "code",
   "execution_count": null,
   "metadata": {},
   "outputs": [
    {
     "name": "stdout",
     "output_type": "stream",
     "text": [
      "[[11 13 15]\n",
      " [17 19 21]\n",
      " [23 25 27]]\n",
      "\n",
      "=========================\n",
      "[[-9 -9 -9]\n",
      " [-9 -9 -9]\n",
      " [-9 -9 -9]]\n",
      "\n",
      "=========================\n",
      "[[ 10  22  36]\n",
      " [ 52  70  90]\n",
      " [112 136 162]]\n",
      "[[ 84  90  96]\n",
      " [201 216 231]\n",
      " [318 342 366]]\n",
      "\n",
      "=========================\n",
      "[[ 84  90  96]\n",
      " [201 216 231]\n",
      " [318 342 366]]\n",
      "\n",
      "=========================\n",
      "[[1 4 7]\n",
      " [2 5 8]\n",
      " [3 6 9]]\n"
     ]
    }
   ],
   "source": [
    "# example using matrix\n",
    "\n",
    "df5 = [[1, 2, 3], [4, 5, 6], [7, 8, 9]]\n",
    "df6 = [[10, 11, 12], [13, 14, 15], [16, 17, 18]]\n",
    "\n",
    "df7 = np.array(df5)\n",
    "df8 = np.array(df6)\n",
    "\n",
    "print(df7+df8)\n",
    "print(\"\\n=========================\")\n",
    "print(df7-df8)\n",
    "print(\"\\n=========================\")\n",
    "print(df7.dot(df8)) \n",
    "print(\"\\n=========================\")\n",
    "print(df7@df8) \n",
    "print(\"\\n=========================\")\n",
    "print(df7.T) \n"
   ]
  },
  {
   "cell_type": "code",
   "execution_count": 7,
   "metadata": {},
   "outputs": [
    {
     "data": {
      "text/plain": [
       "array([10, 12, 14, 16, 18, 20, 22, 24, 26, 28])"
      ]
     },
     "execution_count": 7,
     "metadata": {},
     "output_type": "execute_result"
    }
   ],
   "source": [
    "np.arange(10, 30, 2)"
   ]
  }
 ],
 "metadata": {
  "kernelspec": {
   "display_name": "Python 3",
   "language": "python",
   "name": "python3"
  },
  "language_info": {
   "codemirror_mode": {
    "name": "ipython",
    "version": 3
   },
   "file_extension": ".py",
   "mimetype": "text/x-python",
   "name": "python",
   "nbconvert_exporter": "python",
   "pygments_lexer": "ipython3",
   "version": "undefined.undefined.undefined"
  }
 },
 "nbformat": 4,
 "nbformat_minor": 2
}
